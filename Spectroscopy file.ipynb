{
 "cells": [
  {
   "cell_type": "markdown",
   "id": "cfc435e5",
   "metadata": {},
   "source": [
    "# Creating Spectroscopy Graph\n",
    "\n",
    "## This is a basic file for creating graph of FTIR CSV data\n"
   ]
  },
  {
   "cell_type": "code",
   "execution_count": 2,
   "id": "bed82e92",
   "metadata": {
    "scrolled": true
   },
   "outputs": [],
   "source": [
    "import numpy as np\n",
    "import json\n",
    "import csv\n",
    "import matplotlib.pyplot as plt\n",
    "import ipywidgets as widgets\n"
   ]
  },
  {
   "cell_type": "markdown",
   "id": "0df80b48",
   "metadata": {},
   "source": [
    "Define buttons required "
   ]
  },
  {
   "cell_type": "code",
   "execution_count": 23,
   "id": "ceb2b52d",
   "metadata": {},
   "outputs": [],
   "source": [
    "# Create a file upload widget\n",
    "file_upload = widgets.FileUpload(\n",
    "    accept='.csv',\n",
    "    multiple=False\n",
    ")\n",
    "\n",
    "\n"
   ]
  },
  {
   "cell_type": "markdown",
   "id": "ff2bb8ae",
   "metadata": {},
   "source": [
    "Function to read the csv file"
   ]
  },
  {
   "cell_type": "code",
   "execution_count": null,
   "id": "216b66b0",
   "metadata": {},
   "outputs": [],
   "source": []
  },
  {
   "cell_type": "code",
   "execution_count": 3,
   "id": "1e4a1ec0",
   "metadata": {
    "scrolled": true
   },
   "outputs": [],
   "source": [
    "def read_csv(contents):\n",
    "    wavenumbers = []\n",
    "    absorbance = []\n",
    "    decoded_content = contents.decode('utf-8')\n",
    "    csvreader = csv.reader(decoded_content.splitlines())\n",
    "    next(csvreader)  # Skip header\n",
    "    for row in csvreader:\n",
    "        wavenumbers.append(float(row[0]))\n",
    "        absorbance.append(float(row[1]))  # Read absorbance values\n",
    "    return np.array(wavenumbers), np.array(absorbance)"
   ]
  },
  {
   "cell_type": "markdown",
   "id": "a43d0cfa",
   "metadata": {},
   "source": [
    "Function to perform the spectral correlations"
   ]
  },
  {
   "cell_type": "code",
   "execution_count": 4,
   "id": "91e41efb",
   "metadata": {},
   "outputs": [],
   "source": [
    "def calculate_correlation(spectrum1, spectrum2):\n",
    "    correlation_coefficient = np.corrcoef(spectrum1, spectrum2)[0, 1]\n",
    "    return correlation_coefficient"
   ]
  },
  {
   "cell_type": "markdown",
   "id": "cf337f7a",
   "metadata": {},
   "source": [
    "Function to Save Library"
   ]
  },
  {
   "cell_type": "code",
   "execution_count": 5,
   "id": "4de3dbf9",
   "metadata": {},
   "outputs": [],
   "source": [
    "def save_library(library, filename):\n",
    "    with open(filename, 'w') as jsonfile:\n",
    "        json.dump(library, jsonfile, indent=4)"
   ]
  },
  {
   "cell_type": "markdown",
   "id": "021952fb",
   "metadata": {},
   "source": [
    "Function to load the library"
   ]
  },
  {
   "cell_type": "code",
   "execution_count": 6,
   "id": "6bb8da07",
   "metadata": {},
   "outputs": [],
   "source": [
    "def load_library(filename):\n",
    "    try:\n",
    "        with open(filename, 'r') as jsonfile:\n",
    "            return json.load(jsonfile)\n",
    "    except FileNotFoundError:\n",
    "        return {}"
   ]
  },
  {
   "cell_type": "markdown",
   "id": "dfb59692",
   "metadata": {},
   "source": [
    "Function the add new spectrum to the database"
   ]
  },
  {
   "cell_type": "code",
   "execution_count": 7,
   "id": "cae277b5",
   "metadata": {},
   "outputs": [],
   "source": [
    "def add_to_library(name, wavenumbers, absorbance, library):\n",
    "    library[name] = {\n",
    "        'wavenumbers': wavenumbers.tolist(),\n",
    "        'absorbance': absorbance.tolist()\n",
    "    }"
   ]
  },
  {
   "cell_type": "markdown",
   "id": "49259c3d",
   "metadata": {},
   "source": [
    "Open a new spectrum"
   ]
  },
  {
   "cell_type": "code",
   "execution_count": 8,
   "id": "48cfdfd4",
   "metadata": {},
   "outputs": [],
   "source": [
    "def open_spectrum(contents):\n",
    "    wavenumbers, absorbance = read_csv(contents)\n",
    "    return wavenumbers, absorbance"
   ]
  },
  {
   "cell_type": "markdown",
   "id": "3f88e214",
   "metadata": {},
   "source": [
    "Plot the spectra and add the correlation factor"
   ]
  },
  {
   "cell_type": "code",
   "execution_count": 9,
   "id": "ab59f3c9",
   "metadata": {},
   "outputs": [],
   "source": [
    "def plot_spectra(wavenumbers1, absorbance1, wavenumbers2, absorbance2, title1, title2):\n",
    "    plt.figure(figsize=(10, 6))\n",
    "    plt.plot(wavenumbers1, absorbance1, label=title1)\n",
    "    plt.plot(wavenumbers2, absorbance2, label=title2)\n",
    "    plt.xlabel('Wavenumber')\n",
    "    plt.ylabel('Absorbance')\n",
    "    plt.title('FTIR Spectra Comparison')\n",
    "    plt.legend()\n",
    "    plt.show()"
   ]
  },
  {
   "cell_type": "markdown",
   "id": "674ca4f8",
   "metadata": {},
   "source": [
    "function to search and compare new library against database"
   ]
  },
  {
   "cell_type": "code",
   "execution_count": 10,
   "id": "866226c2",
   "metadata": {},
   "outputs": [],
   "source": [
    "def search_and_compare(wavenumbers, absorbance, library):\n",
    "    best_match = None\n",
    "    best_correlation = -1\n",
    "\n",
    "    for name, spectrum_data in library.items():\n",
    "        library_absorbance = np.array(spectrum_data['absorbance'])\n",
    "        correlation = calculate_correlation(absorbance, library_absorbance)\n",
    "\n",
    "        if correlation > best_correlation:\n",
    "            best_match = name\n",
    "            best_correlation = correlation\n",
    "\n",
    "    if best_match:\n",
    "        plot_spectra(wavenumbers, absorbance,\n",
    "                     np.array(library[best_match]['wavenumbers']),\n",
    "                     np.array(library[best_match]['absorbance']),\n",
    "                     'Input Spectrum', f'Best Match: {best_match}')\n",
    "    else:\n",
    "        print(\"No matching spectrum found in the library.\")"
   ]
  },
  {
   "cell_type": "markdown",
   "id": "d12c5ce5",
   "metadata": {},
   "source": [
    "Main function for creating the GUI window and loading the library"
   ]
  },
  {
   "cell_type": "code",
   "execution_count": 22,
   "id": "800c690b",
   "metadata": {},
   "outputs": [
    {
     "ename": "IndentationError",
     "evalue": "unindent does not match any outer indentation level (<tokenize>, line 13)",
     "output_type": "error",
     "traceback": [
      "\u001b[1;36m  File \u001b[1;32m\"<tokenize>\"\u001b[1;36m, line \u001b[1;32m13\u001b[0m\n\u001b[1;33m    if __name__ == \"__main__\":\u001b[0m\n\u001b[1;37m    ^\u001b[0m\n\u001b[1;31mIndentationError\u001b[0m\u001b[1;31m:\u001b[0m unindent does not match any outer indentation level\n"
     ]
    }
   ],
   "source": []
  },
  {
   "cell_type": "code",
   "execution_count": null,
   "id": "202c0100",
   "metadata": {},
   "outputs": [],
   "source": []
  },
  {
   "cell_type": "code",
   "execution_count": null,
   "id": "7614256c",
   "metadata": {},
   "outputs": [],
   "source": []
  }
 ],
 "metadata": {
  "kernelspec": {
   "display_name": "Python 3 (ipykernel)",
   "language": "python",
   "name": "python3"
  },
  "language_info": {
   "codemirror_mode": {
    "name": "ipython",
    "version": 3
   },
   "file_extension": ".py",
   "mimetype": "text/x-python",
   "name": "python",
   "nbconvert_exporter": "python",
   "pygments_lexer": "ipython3",
   "version": "3.7.4"
  }
 },
 "nbformat": 4,
 "nbformat_minor": 5
}
